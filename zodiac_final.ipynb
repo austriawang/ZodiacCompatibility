{
 "cells": [
  {
   "cell_type": "markdown",
   "id": "92652020",
   "metadata": {},
   "source": [
    "# Cogs 18 Final Project"
   ]
  },
  {
   "cell_type": "markdown",
   "id": "f8159ec2",
   "metadata": {},
   "source": [
    "Zodiac Compatibility Project\n",
    "\n",
    "For this project I wanted to create a simple compatibility test based on zodiac sun signs. You type in two people's birth month and birth date as a numerical value and the code would tell you what you and your person's Zodiac Sun Sign is as well as if whether you two are compatible or not. I also included a dictionary of random birthdays to show that the code can generate the compatibility of two random people using their birth date and birth month in a dictionary."
   ]
  },
  {
   "cell_type": "code",
   "execution_count": 1,
   "id": "c317ae3a",
   "metadata": {},
   "outputs": [],
   "source": [
    "from zodiac_signs import zodiac_sign\n",
    "from zodiac_compatibility import zodiac_compatibility\n",
    "from test_file import test_zodiac_sign, test_zodiac_compatibility, test_random_birthdays"
   ]
  },
  {
   "cell_type": "code",
   "execution_count": 2,
   "id": "24c21f9f",
   "metadata": {
    "scrolled": true
   },
   "outputs": [
    {
     "name": "stdout",
     "output_type": "stream",
     "text": [
      "enter 1st person's name: austria\n",
      "enter 1st person's birth month: 9\n",
      "enter 1st person's birth date: 28\n",
      "enter 2nd person's name: richard\n",
      "enter 2nd person's birth month: 5\n",
      "enter 2nd person's birth date: 8\n",
      "austria's zodiac sign is LIBRA ♎.\n",
      "richard's zodiac sign is TAURUS ♉.\n",
      "you two may not be fully compatible 💔\n"
     ]
    }
   ],
   "source": [
    "def main():\n",
    "    \n",
    "    \"\"\"User inputs data when asked.\n",
    "        \n",
    "    Inputted Name must be a string.\n",
    "    Inputted Birth Month and Birth Date must be integers.\n",
    "            \n",
    "    Result: \n",
    "    The code prints out the 1st and 2nd person's name, birth month, birth date, \n",
    "    zodiac sign and final compatibility result.\"\"\"\n",
    "    \n",
    "    try:\n",
    "        name_first = input(\"enter 1st person's name: \")\n",
    "        birth_month_first = int(input(\"enter 1st person's birth month: \"))\n",
    "        birth_day_first = int(input(\"enter 1st person's birth date: \"))\n",
    "\n",
    "        name_second = input(\"enter 2nd person's name: \")\n",
    "        birth_month_second = int(input(\"enter 2nd person's birth month: \"))\n",
    "        birth_day_second = int(input(\"enter 2nd person's birth date: \"))\n",
    "\n",
    "        \n",
    "        \n",
    "        if not (1 <= birth_month_first <= 12 and 1 <= birth_day_first <= 31 and\n",
    "                1 <= birth_month_second <= 12 and 1 <= birth_day_second <= 31):\n",
    "            raise ValueError(\"invalid date! month should be between (1 - 12), date should be between (1 - 31).\")\n",
    "\n",
    "            \n",
    "        zodiac_sign_first = zodiac_sign(birth_month_first, birth_day_first)\n",
    "        zodiac_sign_second = zodiac_sign(birth_month_second, birth_day_second)\n",
    "\n",
    "        print(f\"{name_first}'s zodiac sign is {zodiac_sign_first}.\")\n",
    "        print(f\"{name_second}'s zodiac sign is {zodiac_sign_second}.\")\n",
    "\n",
    "        compatibility_result = zodiac_compatibility(zodiac_sign_first, zodiac_sign_second)\n",
    "        print(f\"{compatibility_result}\")\n",
    "\n",
    "    except ValueError:\n",
    "        print(\"please enter valid numerical value between (1-12) for month & (1-31) for date.\")\n",
    "\n",
    "if __name__ == \"__main__\":\n",
    "    main()\n"
   ]
  },
  {
   "cell_type": "code",
   "execution_count": 3,
   "id": "5dcf65c0",
   "metadata": {},
   "outputs": [
    {
     "name": "stdout",
     "output_type": "stream",
     "text": [
      "lorain's birthday is on 7/19 which makes them a CANCER ♋\n",
      "johnny's birthday is on 11/9 which makes them a SCORPIO ♏\n",
      "this means you two are compatible 💕\n"
     ]
    }
   ],
   "source": [
    "import random\n",
    "\n",
    "random_birthdays = {\n",
    "    'iris': (7, 5),\n",
    "    'christiana': (9, 2),     \n",
    "    'austria': (9, 28),  \n",
    "    'ethan': (11, 19),  \n",
    "    'david': (7, 7),\n",
    "    'naomi': (2, 13),  \n",
    "    'james': (7, 15), \n",
    "    'richard': (5,8),\n",
    "    'lorain': (7, 19),   \n",
    "    'kelly': (2, 21),\n",
    "    'yanni': (12, 4),  \n",
    "    'leen': (5, 9), \n",
    "    'kristine': (7, 5), \n",
    "    'sarah': (12, 26),\n",
    "    'kylie': (7, 26), \n",
    "    'clarissa': (12, 10), \n",
    "    'olivia': (10, 8),\n",
    "    'johnny': (11, 9),\n",
    "    'sofia': (12, 26),\n",
    "    'emily': (7, 21)\n",
    "\n",
    "}\n",
    "\n",
    "def get_random_person():\n",
    "    name = random.choice(list(random_birthdays.keys()))\n",
    "    birth_month, birth_day = random_birthdays[name]\n",
    "    return name, birth_month, birth_day\n",
    "\n",
    "\n",
    "    \"\"\"Determining zodiac compatibility between two random people in a dictionary.\n",
    "    \n",
    "    Each name in the dictionary has a corresponding key (birthday) stored as an integer.\n",
    "    Two random names are chosen using the random function and their birth date is used \n",
    "    to match compatibility using the imported module zodiac_compatibility.\n",
    "    \n",
    "    Result:\n",
    "    The program prints out each person's name, birth date, their sign \n",
    "    and their final zodiac compatibility.\n",
    "    \"\"\"\n",
    "    \n",
    "person1_name, person1_month, person1_day = get_random_person()\n",
    "person2_name, person2_month, person2_day = get_random_person()\n",
    "\n",
    "zodiac_sign1 = zodiac_sign(person1_month, person1_day)\n",
    "zodiac_sign2 = zodiac_sign(person2_month, person2_day)\n",
    "\n",
    "print(f\"{person1_name}'s birthday is on {person1_month}/{person1_day} which makes them a {zodiac_sign1}\")\n",
    "print(f\"{person2_name}'s birthday is on {person2_month}/{person2_day} which makes them a {zodiac_sign2}\")\n",
    "\n",
    "compatibility_result = zodiac_compatibility(zodiac_sign1, zodiac_sign2)\n",
    "print(f\"this means {compatibility_result}\")"
   ]
  },
  {
   "cell_type": "markdown",
   "id": "22c377eb",
   "metadata": {},
   "source": [
    "Extra Credit:\n",
    "This assignment was tricky to code to make sure all the elements were working. I haven't had any proper coding class before this class as I was only learning how to use \"pseudocode\" versus actual code. This basic understanding helped me organize and outline what I wanted my code to do. I had a tough time importing the .py files initially as I kept making small grammatical errors. After a few trial and errors I was able to make the imported modules run smoothly. I also only originally had the first test cell which allowed a user to input their name and birth date. I added the randomized compatibility generator to make the code more useful and \"fun\". This would also be a good way to have more names and birthdays compiled in an easier way. After talking to the TA John I was able to get more ideas how to make this code more complex. I also originally organized the zodiac_signs module in a more complex way using \"elif\" and \"or\" statements but after talking to the TA again, I was able to simplify it by only using integers to make it more streamlined and easier to look at/read."
   ]
  },
  {
   "cell_type": "code",
   "execution_count": null,
   "id": "6bfe479c",
   "metadata": {},
   "outputs": [],
   "source": []
  },
  {
   "cell_type": "code",
   "execution_count": null,
   "id": "fec20d0a",
   "metadata": {},
   "outputs": [],
   "source": []
  }
 ],
 "metadata": {
  "kernelspec": {
   "display_name": "Python 3 (ipykernel)",
   "language": "python",
   "name": "python3"
  },
  "language_info": {
   "codemirror_mode": {
    "name": "ipython",
    "version": 3
   },
   "file_extension": ".py",
   "mimetype": "text/x-python",
   "name": "python",
   "nbconvert_exporter": "python",
   "pygments_lexer": "ipython3",
   "version": "3.9.5"
  }
 },
 "nbformat": 4,
 "nbformat_minor": 5
}
